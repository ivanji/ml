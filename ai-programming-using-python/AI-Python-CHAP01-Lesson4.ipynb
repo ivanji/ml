{
 "cells": [
  {
   "cell_type": "markdown",
   "metadata": {},
   "source": [
    "## Functions"
   ]
  },
  {
   "cell_type": "code",
   "execution_count": null,
   "metadata": {},
   "outputs": [],
   "source": [
    "# Function definition:\n",
    "\n",
    "def cylinder_vol(height, radius):\n",
    "    pi = 3.14159\n",
    "    return height * pi * radius **2\n",
    "    \n",
    "cylinder_volume(10, 3)"
   ]
  },
  {
   "cell_type": "markdown",
   "metadata": {},
   "source": [
    "### Naming Conventions for Functions\n",
    "\n",
    "Function names follow the same naming conventions as variables.\n",
    "\n",
    "Only use ordinary letters, numbers and underscores in your function names. They can’t have spaces, and need to start with a letter or underscore.\n",
    "\n",
    "You can’t use reserved words or built-in identifiers that have important purposes in Python, which you’ll learn about throughout this course. A list of Python reserved words is described here: https://pentangle.net/python/handbook/node52.html.\n",
    "\n",
    "Try to use descriptive names (a verb) that can help readers understand what the function does.\n",
    "\n",
    "### Default Arguments\n",
    "\n",
    "We can add default arguments in a function to have default values for parameters that are unspecified in a function call."
   ]
  },
  {
   "cell_type": "code",
   "execution_count": null,
   "metadata": {},
   "outputs": [],
   "source": [
    "def cylinder_volume(height, radius=5):\n",
    "    pi = 3.14159\n",
    "    return height * pi * radius ** 2"
   ]
  },
  {
   "cell_type": "markdown",
   "metadata": {},
   "source": [
    "Also notice here we are passing values to our arguments by position. It is possible to pass values in two ways - by position and by name. Each of these function calls are evaluated the same way.\n",
    "\n",
    "cylinder_volume(10, 7)  # pass in arguments by position\n",
    "cylinder_volume(height=10, radius=7)  # pass in arguments by name"
   ]
  },
  {
   "cell_type": "code",
   "execution_count": null,
   "metadata": {},
   "outputs": [],
   "source": [
    "%%timeit\n",
    "# A Function that returns number of weeks and days based on days input\n",
    "def readable_timedelta(days):\n",
    "    total_weeks = int(days / 7)\n",
    "    total_days = str(days % 7)\n",
    "    return str(total_weeks) + ' week(s) and ' + total_days + ' day(s).' \n",
    "\n",
    "# test your function\n",
    "print(readable_timedelta(11))"
   ]
  },
  {
   "cell_type": "code",
   "execution_count": null,
   "metadata": {},
   "outputs": [],
   "source": [
    "%%timeit\n",
    "\n",
    "# Another Function that returns number of weeks and days based on days input. \n",
    "# Two different approaches, using %timeit to find out fastest version\n",
    "def readable_timedelta(days):\n",
    "    total_weeks = days // 7 # returns int result\n",
    "    total_days = days % 7 # no need to convert to str if using string formatting.\n",
    "    return \"{} week(s) and {} day(s)\".format(total_weeks, total_days)\n",
    "\n",
    "print(readable_timedelta(11))"
   ]
  },
  {
   "cell_type": "markdown",
   "metadata": {},
   "source": [
    "#### Variable Scope\n",
    "\n",
    "Variable scope refers to which parts of a program a variable can be referenced, or used, from.\n",
    "\n",
    "It's important to consider scope when using variables in functions. If a variable is created inside a function, it can only be used within that function. Accessing it outside that function is not possible."
   ]
  },
  {
   "cell_type": "markdown",
   "metadata": {},
   "source": [
    "#### Docstring\n",
    "\n",
    "A type of comment used to explain the purpose of a function and how it should be used.\n",
    "\n",
    "Docstrings are surrounded by triple quotes. The first line of the docstring is a brief explanation of the function's purpose. If you feel that this is sufficient documentation you can end the docstring at this point; single line docstrings are perfectly acceptable, as in the example above.\n",
    "\n",
    "def population_density(population, land_area):\n",
    "    \"\"\"Calculate the population density of an area\n",
    "    INPUT:\n",
    "    population: int. The population of the area\n",
    "    land_area: int or float. This function ...\n",
    "    OUTPUT:\n",
    "    population_density: population/land_area. The population density of a particular area.\n",
    "    \"\"\"\n",
    "    return population / land_area"
   ]
  },
  {
   "cell_type": "markdown",
   "metadata": {},
   "source": [
    "#### Lambda Expressions\n",
    "\n",
    "Expression used to create anonymous function. They are helpful for creating quick functions that aren’t needed later in your code. This can be especially useful for higher order functions, or functions that take in other functions as arguments.\n",
    "\n",
    "\n",
    "##### Components of a Lambda Function\n",
    "The lambda keyword is used to indicate that this is a lambda expression.\n",
    "\n",
    "Following lambda are one or more arguments for the anonymous function separated by commas, followed by a colon :. Similar to functions, the way the arguments are named in a lambda expression is arbitrary.\n",
    "\n",
    "Last is an expression that is evaluated and returned in this function. This is a lot like an expression you might see as a return statement in a function.\n",
    "\n",
    "With this structure, lambda expressions aren’t ideal for complex functions, but can be very useful for short, simple functions."
   ]
  },
  {
   "cell_type": "code",
   "execution_count": 3,
   "metadata": {},
   "outputs": [
    {
     "name": "stdout",
     "output_type": "stream",
     "text": [
      "[57.0, 58.2, 50.6, 27.2]\n",
      "['Chicago', 'Denver', 'Boston']\n"
     ]
    }
   ],
   "source": [
    "# def double_a(x):\n",
    "#    x * 2\n",
    "\n",
    "# Lambda equivalent of previous function\n",
    "double = lambda x: x*2 # x: argument and then the evaluated expression\n",
    "\n",
    "multiply = lambda x, y: x * y # additional example with two arguments.\n",
    "multiply(4,7)\n",
    "\n",
    "numbers = [\n",
    "              [34, 63, 88, 71, 29],\n",
    "              [90, 78, 51, 27, 45],\n",
    "              [63, 37, 85, 46, 22],\n",
    "              [51, 22, 34, 11, 18]\n",
    "           ]\n",
    "\n",
    "#def mean(num_list):\n",
    "#    return sum(num_list) / len(num_list)\n",
    "    \n",
    "mean = lambda num_list: sum(num_list) / len(num_list)\n",
    "\n",
    "averages = list(map(mean, numbers))\n",
    "print(averages)\n",
    "\n",
    "cities = [\"New York City\", \"Los Angeles\", \"Chicago\", \"Mountain View\", \"Denver\", \"Boston\"]\n",
    "\n",
    "#def is_short(name):\n",
    "#    return len(name) < 10\n",
    "    \n",
    "is_short = lambda name: len(name) < 10\n",
    "\n",
    "short_cities = list(filter(is_short, cities))\n",
    "print(short_cities)"
   ]
  },
  {
   "cell_type": "markdown",
   "metadata": {},
   "source": [
    "### Iterators and Generators\n",
    "\n",
    "#### Iterator\n",
    "\n",
    "An *iterator* is an object that represents a stream of data. A list is *iterable* but it's not an iterator, as it's not a stream of data. Iterables are objects that can return one of their elements at a time.\n",
    "\n",
    "#### Generator\n",
    "\n",
    "A function that creates an iterator, for clarity purposes referred as *Generator functions*, and what they produce referred to as the Iterator.\n",
    "\n",
    "We use generators over lists when the fully realised list would not fit in memory, or when the cost to calculate each list element is high and you want to do it as late as possible. But they can only be iterated over once.\n",
    "\n",
    "As all lists/arrays elements would be loaded in memory at once, we use generators when handling larger amounts of data that can't be fit in memory."
   ]
  },
  {
   "cell_type": "code",
   "execution_count": 1,
   "metadata": {},
   "outputs": [
    {
     "name": "stdout",
     "output_type": "stream",
     "text": [
      "0\n",
      "1\n",
      "2\n",
      "3\n",
      "4\n"
     ]
    }
   ],
   "source": [
    "def my_range(x):\n",
    "    i = 0\n",
    "    while i < x:\n",
    "        yield i\n",
    "        i += 1\n",
    "\n",
    "# since this returns an iterator, we can convert it to a list or iterate through it in a loop to view its contents.\n",
    "for x in my_range(5):\n",
    "    print(x)"
   ]
  },
  {
   "cell_type": "markdown",
   "metadata": {},
   "source": [
    "Notice that instead of using the return keyword, it uses yield. This allows the function to return values one at a time, and start where it left off each time it’s called. This yield keyword is what differentiates a generator from a typical function."
   ]
  },
  {
   "cell_type": "code",
   "execution_count": 4,
   "metadata": {},
   "outputs": [
    {
     "name": "stdout",
     "output_type": "stream",
     "text": [
      "Lesson 1: Why Python Programming\n",
      "Lesson 2: Data Types and Operators\n",
      "Lesson 3: Control Flow\n",
      "Lesson 4: Functions\n",
      "Lesson 5: Scripting\n"
     ]
    }
   ],
   "source": [
    "# Write your own generator function that works like the built-in function enumerate.\n",
    "lessons = [\"Why Python Programming\", \"Data Types and Operators\", \"Control Flow\", \"Functions\", \"Scripting\"]\n",
    "\n",
    "def my_enumerate(iterable, start=0):\n",
    "    # Implement your generator function here\n",
    "    i = start\n",
    "    for item in iterable:\n",
    "        yield i, item\n",
    "        i += 1\n",
    "\n",
    "\n",
    "for i, lesson in my_enumerate(lessons, 1):\n",
    "    print(\"Lesson {}: {}\".format(i, lesson))"
   ]
  },
  {
   "cell_type": "markdown",
   "metadata": {},
   "source": [
    "#### Generator Expressions\n",
    "\n",
    "You can actually create a generator in the same way you'd normally write a list comprehension, except with parentheses instead of square brackets. For example:"
   ]
  },
  {
   "cell_type": "code",
   "execution_count": null,
   "metadata": {},
   "outputs": [],
   "source": [
    "sq_list = [x**2 for x in range(10)]  # this produces a list of squares\n",
    "\n",
    "sq_iterator = (x**2 for x in range(10))  # this produces an iterator of squares\n",
    "\n",
    "print(sq_list)\n",
    "print(sq_iterator)"
   ]
  },
  {
   "cell_type": "code",
   "execution_count": null,
   "metadata": {},
   "outputs": [],
   "source": [
    "# end of Lesson"
   ]
  }
 ],
 "metadata": {
  "kernelspec": {
   "display_name": "Python 3",
   "language": "python",
   "name": "python3"
  },
  "language_info": {
   "codemirror_mode": {
    "name": "ipython",
    "version": 3
   },
   "file_extension": ".py",
   "mimetype": "text/x-python",
   "name": "python",
   "nbconvert_exporter": "python",
   "pygments_lexer": "ipython3",
   "version": "3.5.4"
  }
 },
 "nbformat": 4,
 "nbformat_minor": 2
}
