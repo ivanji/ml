{
 "cells": [
  {
   "cell_type": "markdown",
   "metadata": {},
   "source": [
    "### Control flow\n",
    "\n",
    "\n",
    "#### If Statement\n",
    "An if state is a conditional statement that runs or skips code based on wether a condition is true or false.\n",
    "\n",
    "```\n",
    "if phone_balance < 5:\n",
    "    phone_balance += 10\n",
    "    bank_balance -=10\n",
    "```\n",
    "\n",
    "#### If, Elif, Else\n",
    "In addition to If, there are two other conditional  clauses often used with an if statement. For example:\n",
    "\n",
    "```\n",
    "if season == 'spring':\n",
    "    print('plant the garden')\n",
    "   elseif season == 'summer':\n",
    "    print('water the garden!')\n",
    "   elseif season == 'fall'):\n",
    "    print('harvest the season!')\n",
    "   elseif season == 'winter')\n",
    "    print('stay indoors!')\n",
    "   else:\n",
    "    print('unrecognized season')\n",
    "```\n",
    "\n",
    "if: An if statement must always start with an if clause, which contains the first condition that is checked. If this evaluates to True, Python runs the code indented in this if block and then skips to the rest of the code after the if statement.\n",
    "\n",
    "elif: elif is short for \"else if.\" An elif clause is used to check for an additional condition if the conditions in the previous clauses in the if statement evaluate to False. As you can see in the example, you can have multiple elif blocks to handle different situations.\n",
    "\n",
    "else: Last is the else clause, which must come at the end of an if statement if used. This clause doesn't require a condition. The code in an else block is run if all conditions above that in the if statement evaluate to False.\n",
    "\n"
   ]
  },
  {
   "cell_type": "code",
   "execution_count": 3,
   "metadata": {},
   "outputs": [
    {
     "name": "stdout",
     "output_type": "stream",
     "text": [
      "You won a wooden rabbit\n"
     ]
    }
   ],
   "source": [
    "win_message = 'You won a '\n",
    "\n",
    "def draw_prize(points):\n",
    "    if points <=50:\n",
    "        prize = 'wooden rabbit'\n",
    "        print(win_message + prize)\n",
    "    elif points <=150:\n",
    "        print('Oh dear, no prize this time.')\n",
    "    elif points <=180:\n",
    "        print('You won a wafer-thin mint')\n",
    "    else:\n",
    "        print('You won a penguin')\n",
    "    \n",
    "draw_prize(40)"
   ]
  },
  {
   "cell_type": "markdown",
   "metadata": {},
   "source": [
    "#### Good and Bad Examples\n",
    "Here are some things to keep in mind while writing boolean expressions for your if statements.\n",
    "\n",
    "1. Don't use True or False as conditions\n",
    "\n",
    "Bad example\n",
    "\n",
    "```\n",
    "if True:\n",
    "    print(\"This indented code will always get run.\")\n",
    "```\n",
    "While \"True\" is a valid boolean expression, it's not useful as a condition since it always evaluates to True, so the indented code will always get run. Similarly, if False is not a condition you should use either - the statement following this if statement would never be executed.\n",
    "\n",
    "\n",
    "Another bad example\n",
    "\n",
    "```\n",
    "if is_cold or not is_cold:\n",
    "    print(\"This indented code will always get run.\")\n",
    "```\n",
    "Similarly, it's useless to use any condition that you know will always evaluate to True, like this example above. A boolean variable can only be True or False, so either is_cold or not is_cold is always True, and the indented code will always be run.\n",
    "\n",
    "2. Be careful writing expressions that use logical operators\n",
    "\n",
    "Logical operators and, or and not have specific meanings that aren't quite the same as their meanings in plain English. Make sure your boolean expressions are being evaluated the way you expect them to.\n",
    "\n",
    "Bad example\n",
    "\n",
    "```\n",
    "if weather == \"snow\" or \"rain\":\n",
    "    print(\"Wear boots!\")\n",
    "```\n",
    "This code is valid in Python, but it is not a boolean expression, although it reads like one. The reason is that the expression to the right of the or operator, \"rain\", is not a boolean expression - it's a string! Later we'll discuss what happens when you use non-boolean-type objects in place of booleans.\n",
    "\n",
    "3. Don't compare a boolean variable with == True or == False\n",
    "This comparison isn’t necessary, since the boolean variable itself is a boolean expression.\n",
    "\n",
    "\n",
    "Bad example\n",
    "```\n",
    "if is_cold == True:\n",
    "    print(\"The weather is cold!\")\n",
    "```\n",
    "\n",
    "This is a valid condition, but we can make the code more readable by using the variable itself as the condition instead, as below.\n",
    "\n",
    "\n",
    "Good example\n",
    "```\n",
    "if is_cold:\n",
    "    print(\"The weather is cold!\")\n",
    "```"
   ]
  },
  {
   "cell_type": "markdown",
   "metadata": {},
   "source": [
    "##### Truth Value Testing\n",
    "\n",
    "If we use a non-boolean object as a condition in an if statement in place of the boolean expression, Python will check for its truth value and use that to decide whether or not to run the indented code. By default, the truth value of an object in Python is considered True unless specified as False in the documentation.\n",
    "\n",
    "Here are most of the built-in objects that are considered False in Python:\n",
    "\n",
    "constants defined to be false: None and False\n",
    "zero of any numeric type: 0, 0.0, 0j, Decimal(0), Fraction(0, 1)\n",
    "empty sequences and collections: '\"\", (), [], {}, set(), range(0)"
   ]
  },
  {
   "cell_type": "markdown",
   "metadata": {},
   "source": [
    "#### For Loops\n",
    "\n",
    "Python has two kinds of loops - for loops and while loops. A for loop is used to \"iterate\", or do something repeatedly, over an iterable.\n",
    "\n",
    "An iterable is an object that can return one of its elements at a time. This can include sequence types, such as strings, lists, and tuples, as well as non-sequence types, such as dictionaries and files.\n",
    "\n",
    "Example\n",
    "Let's break down the components of a for loop, using this example with the list cities:\n",
    "\n",
    "cities = ['new york city', 'mountain view', 'chicago', 'los angeles']\n",
    "for city in cities:\n",
    "    print(city)\n",
    "print(\"Done!\")\n",
    "\n",
    "If you wish to iterate through both keys and values, you can use the built-in method items like this:\n",
    "\n"
   ]
  },
  {
   "cell_type": "code",
   "execution_count": 4,
   "metadata": {},
   "outputs": [
    {
     "name": "stdout",
     "output_type": "stream",
     "text": [
      "Actor: Jerry Seinfeld    Role: Jerry Seinfeld\n",
      "Actor: Julia Louis-Dreyfus    Role: Elaine Benes\n",
      "Actor: Jason Alexander    Role: George Costanza\n",
      "Actor: Michael Richards    Role: Cosmo Kramer\n"
     ]
    }
   ],
   "source": [
    "cast = {\n",
    "           \"Jerry Seinfeld\": \"Jerry Seinfeld\",\n",
    "           \"Julia Louis-Dreyfus\": \"Elaine Benes\",\n",
    "           \"Jason Alexander\": \"George Costanza\",\n",
    "           \"Michael Richards\": \"Cosmo Kramer\"\n",
    "       }\n",
    "\n",
    "for key, value in cast.items():\n",
    "    print(\"Actor: {}    Role: {}\".format(key, value))"
   ]
  },
  {
   "cell_type": "code",
   "execution_count": 5,
   "metadata": {},
   "outputs": [
    {
     "name": "stdout",
     "output_type": "stream",
     "text": [
      "Jerry Seinfeld\n",
      "Julia Louis-Dreyfus\n",
      "Jason Alexander\n",
      "Michael Richards\n"
     ]
    }
   ],
   "source": [
    "for key in cast:\n",
    "    print(key)"
   ]
  },
  {
   "cell_type": "markdown",
   "metadata": {},
   "source": [
    "#### While Loops\n",
    "\n",
    "Indefinite iteration, which is when the loop repeats an unknown number of times and ends when a condition is met.\n",
    "\n",
    "The indented body of the loop should modify at least one variable in the test condition. If the vlaue of the test condition never changes, the results is an infinite loop."
   ]
  },
  {
   "cell_type": "code",
   "execution_count": 3,
   "metadata": {},
   "outputs": [],
   "source": [
    "card_deck = [4,11,8,5,13,2,8,10]\n",
    "hand = []\n",
    "\n",
    "# adds the Last elmenet of the card_deck list to the hand list until the values in hand add up to 17\n",
    "while sum(hand) < 17:\n",
    "    hand.append(card_deck.pop())"
   ]
  },
  {
   "cell_type": "markdown",
   "metadata": {},
   "source": []
  },
  {
   "cell_type": "code",
   "execution_count": 7,
   "metadata": {},
   "outputs": [
    {
     "name": "stdout",
     "output_type": "stream",
     "text": [
      "W\n",
      "a\n",
      "t\n",
      "e\n",
      "r\n",
      " \n",
      "f\n",
      "a\n",
      "l\n",
      "l\n",
      "s\n"
     ]
    }
   ],
   "source": [
    "print_str = \"Water falls\"\n",
    "\n",
    "# TODO: initialize a counting variable \"i\" to 0 - you'll use this to track which character of the string you're on\n",
    "i = 0\n",
    "\n",
    "# TODO: write your while header line, comparing \"i\" to the length of the string\n",
    "while(i < len(print_str)):\n",
    "    # TODO: here in the body of the loop, print out the current character from the string\n",
    "    print(print_str[i])\n",
    "    # TODO: increment your counter variable in the body of the loop, so you don't loop forever!\n",
    "    i = i + 1"
   ]
  },
  {
   "cell_type": "code",
   "execution_count": 5,
   "metadata": {},
   "outputs": [
    {
     "name": "stdout",
     "output_type": "stream",
     "text": [
      "720\n"
     ]
    }
   ],
   "source": [
    "# While Loop Practice\n",
    "# Start with a sample number for first test - change this when testing your code more!\n",
    "number = 6    \n",
    "# We'll always start with our product equal to the number\n",
    "product = 1\n",
    "\n",
    "# TODO: Write while loop header line - how will you tell it when to stop looping?\n",
    "while(number >= 1):\n",
    "    # TODO: Each time through the loop, what do we want to do to our number?\n",
    "    product *= number\n",
    "    # TODO: Each time, what do we want to multiply the current product by?\n",
    "    number = number -1\n",
    "# TODO: Print out final product (how do we indicate this should happen after loop ends?)\n",
    "print(product)"
   ]
  },
  {
   "cell_type": "code",
   "execution_count": 6,
   "metadata": {},
   "outputs": [
    {
     "name": "stdout",
     "output_type": "stream",
     "text": [
      "720\n"
     ]
    }
   ],
   "source": [
    "# Same as above using for loop instead\n",
    "# This is the number we'll find the factorial of - change it to test your code!\n",
    "number = 6\n",
    "# We'll start with the product equal to the number\n",
    "product = number\n",
    "\n",
    "# TODO: Write a for loop that calculates the factorial of our number \n",
    "for i in range(1,number):\n",
    "    product *= i\n",
    "\n",
    "# TODO: print the factorial of your number\n",
    "print(product)"
   ]
  },
  {
   "cell_type": "code",
   "execution_count": null,
   "metadata": {},
   "outputs": [],
   "source": [
    "start_num = 0#provide some start number\n",
    "end_num = 10#provide some end number that you stop when you hit\n",
    "count_by = 2#provide some number to count by \n",
    "break_num = start_num\n",
    "\n",
    "# write a while loop that uses break_num as the ongoing number to \n",
    "#   check against end_num\n",
    "while(break_num < end_num):\n",
    "    break_num += count_by\n",
    "print(break_num)"
   ]
  },
  {
   "cell_type": "markdown",
   "metadata": {},
   "source": [
    "#### Break Continue\n",
    "\n",
    "*Break*: Terminates a for or while loop, exiting the entire loop.\n",
    "\n",
    "*Continue*: Terminates one iteration of a for or while loop"
   ]
  },
  {
   "cell_type": "code",
   "execution_count": 10,
   "metadata": {},
   "outputs": [
    {
     "name": "stdout",
     "output_type": "stream",
     "text": [
      "current weight: 0\n",
      "  adding bananas (15)\n",
      "current weight: 15\n",
      "  adding mattresses (24)\n",
      "current weight: 39\n",
      "  adding dog kennels (42)\n",
      "current weight: 81\n",
      "  skipping machine (120)\n",
      "current weight: 81\n",
      "  adding cheeses (5)\n",
      "\n",
      "Final Weight: 86\n",
      "Final Items: ['bananas', 'mattresses', 'dog kennels', 'cheeses']\n"
     ]
    }
   ],
   "source": [
    "manifest = [(\"bananas\", 15), (\"mattresses\", 24), (\"dog kennels\", 42), (\"machine\", 120), (\"cheeses\", 5)]\n",
    "\n",
    "# skips an iteration when adding an item would exceed the limit\n",
    "# breaks the loop if weight is exactly the value of the limit\n",
    "weight = 0\n",
    "items = []\n",
    "for cargo_name, cargo_weight in manifest:\n",
    "    print(\"current weight: {}\".format(weight))\n",
    "    if weight >= 100:\n",
    "        print(\"  breaking from the loop now!\")\n",
    "        break\n",
    "    elif weight + cargo_weight > 100:\n",
    "        print(\"  skipping {} ({})\".format(cargo_name, cargo_weight))\n",
    "        continue\n",
    "    else:\n",
    "        print(\"  adding {} ({})\".format(cargo_name, cargo_weight))\n",
    "        items.append(cargo_name)\n",
    "        weight += cargo_weight\n",
    "\n",
    "print(\"\\nFinal Weight: {}\".format(weight))\n",
    "print(\"Final Items: {}\".format(items))"
   ]
  },
  {
   "cell_type": "code",
   "execution_count": 36,
   "metadata": {},
   "outputs": [
    {
     "name": "stdout",
     "output_type": "stream",
     "text": [
      "Local Bear Eaten by Man Legislature Announces New Laws Peasant Discovers Violence Inherent in System Cat Rescues Fireman Stuck in Tree Brave\n"
     ]
    }
   ],
   "source": [
    "# Write a loop with a break statement to create a string, news_ticker, that is exactly 140 characters long. You should create the news ticker by adding headlines from the headlines list, inserting a space in between each headline. If necessary, truncate the last headline in the middle so that news_ticker is exactly 140 characters long.\n",
    "# HINT: modify the headlines list to verify your loop works with different inputs\n",
    "headlines = [\"Local Bear Eaten by Man\",\n",
    "             \"Legislature Announces New Laws\",\n",
    "             \"Peasant Discovers Violence Inherent in System\",\n",
    "             \"Cat Rescues Fireman Stuck in Tree\",\n",
    "             \"Brave Knight Runs Away\",\n",
    "             \"Papperbok Review: Totally Triffic\"]\n",
    "\n",
    "news_ticker = \"\"\n",
    "# write your loop here\n",
    "for headline in headlines:\n",
    "    if(len(news_ticker) >= 140):\n",
    "        news_ticker = news_ticker[:140]\n",
    "        #print('Newsticker is full')\n",
    "        break\n",
    "    else:\n",
    "        news_ticker += headline + \" \"\n",
    "        \n",
    "print(news_ticker)"
   ]
  },
  {
   "cell_type": "markdown",
   "metadata": {},
   "source": [
    "### Zip And Enumerate\n",
    "\n",
    "#### Zip\n",
    "zip and enumerate are useful built-in functions that can come in handy when dealing with loops.\n",
    "\n",
    "\n",
    "Zip returns an iterable that combines multiple iterables into one sequence of tuples. For example:"
   ]
  },
  {
   "cell_type": "code",
   "execution_count": 11,
   "metadata": {},
   "outputs": [
    {
     "data": {
      "text/plain": [
       "[('a', 1), ('b', 2), ('c', 3)]"
      ]
     },
     "execution_count": 11,
     "metadata": {},
     "output_type": "execute_result"
    }
   ],
   "source": [
    "list(zip(['a', 'b', 'c'], [1, 2, 3]))"
   ]
  },
  {
   "cell_type": "markdown",
   "metadata": {},
   "source": [
    "to unpack each tuple in a for loop:"
   ]
  },
  {
   "cell_type": "code",
   "execution_count": 13,
   "metadata": {},
   "outputs": [
    {
     "name": "stdout",
     "output_type": "stream",
     "text": [
      "a: 1\n",
      "b: 2\n",
      "c: 3\n"
     ]
    }
   ],
   "source": [
    "# You could unpack each tuple in a for loop like this.\n",
    "\n",
    "letters = ['a', 'b', 'c']\n",
    "nums = [1, 2, 3]\n",
    "\n",
    "for letter, num in zip(letters, nums):\n",
    "    print(\"{}: {}\".format(letter, num))"
   ]
  },
  {
   "cell_type": "code",
   "execution_count": 17,
   "metadata": {},
   "outputs": [
    {
     "name": "stdout",
     "output_type": "stream",
     "text": [
      "('a', 'b', 'c')\n",
      "(1, 2, 3)\n"
     ]
    }
   ],
   "source": [
    "# In addition to zipping two lists together, you can also unzip a list using an asterisk\n",
    "some_list = [('a', 1), ('b', 2), ('c', 3)]\n",
    "letters, nums = zip(*some_list)\n",
    "\n",
    "print(letters)\n",
    "print(nums)"
   ]
  },
  {
   "cell_type": "markdown",
   "metadata": {},
   "source": [
    "#### Enumarate \n",
    "\n",
    "Enumerate is a built in function that returns an iterator of tuples containing indices and values of a list. You'll often use this when you want the index along with each element of an iterabe loop."
   ]
  },
  {
   "cell_type": "code",
   "execution_count": 19,
   "metadata": {},
   "outputs": [
    {
     "name": "stdout",
     "output_type": "stream",
     "text": [
      "0 a\n",
      "1 b\n",
      "2 c\n",
      "3 d\n",
      "4 e\n"
     ]
    }
   ],
   "source": [
    "letters = ['a', 'b', 'c', 'd', 'e']\n",
    "for i, letter in enumerate(letters):\n",
    "    print(i, letter)"
   ]
  },
  {
   "cell_type": "code",
   "execution_count": 21,
   "metadata": {},
   "outputs": [
    {
     "name": "stdout",
     "output_type": "stream",
     "text": [
      "F: 23, 677, 4\n",
      "J: 53, 233, 16\n",
      "A: 2, 405, -6\n",
      "Q: -12, 433, -42\n",
      "Y: 95, 905, 3\n",
      "B: 103, 376, -6\n",
      "W: 14, 432, 23\n",
      "X: -5, 445, -1\n"
     ]
    }
   ],
   "source": [
    "x_coord = [23, 53, 2, -12, 95, 103, 14, -5]\n",
    "y_coord = [677, 233, 405, 433, 905, 376, 432, 445]\n",
    "z_coord = [4, 16, -6, -42, 3, -6, 23, -1]\n",
    "labels = [\"F\", \"J\", \"A\", \"Q\", \"Y\", \"B\", \"W\", \"X\"]\n",
    "\n",
    "points = []\n",
    "for point in zip(labels,x_coord, y_coord, z_coord):\n",
    "    points.append(\"{}: {}, {}, {}\".format(*point)) # format each element using string literals\n",
    "    \n",
    "# write your for loop here\n",
    "for point in points:\n",
    "    print(point)"
   ]
  },
  {
   "cell_type": "code",
   "execution_count": 22,
   "metadata": {},
   "outputs": [
    {
     "name": "stdout",
     "output_type": "stream",
     "text": [
      "{'Robin': 68, 'Lily': 66, 'Ted': 72, 'Marshall': 76, 'Barney': 72}\n"
     ]
    }
   ],
   "source": [
    "cast_names = [\"Barney\", \"Robin\", \"Ted\", \"Lily\", \"Marshall\"]\n",
    "cast_heights = [72, 68, 72, 66, 76]\n",
    "\n",
    "cast = dict(list(zip(cast_names, cast_heights)))\n",
    "print(cast)"
   ]
  },
  {
   "cell_type": "code",
   "execution_count": null,
   "metadata": {},
   "outputs": [],
   "source": [
    "cast = ((\"Barney\", 72), (\"Robin\", 68), (\"Ted\", 72), (\"Lily\", 66), (\"Marshall\", 76))\n",
    "\n",
    "# define names and heights here\n",
    "names, heights = zip(*cast)\n",
    "\n",
    "print(names)\n",
    "print(heights)"
   ]
  },
  {
   "cell_type": "code",
   "execution_count": 23,
   "metadata": {},
   "outputs": [
    {
     "name": "stdout",
     "output_type": "stream",
     "text": [
      "((0, 3, 6, 9), (1, 4, 7, 10), (2, 5, 8, 11))\n"
     ]
    }
   ],
   "source": [
    "# Transpose data using Zip\n",
    "\n",
    "data = ((0, 1, 2), (3, 4, 5), (6, 7, 8), (9, 10, 11))\n",
    "\n",
    "data_transpose = tuple(zip(*data))\n",
    "print(data_transpose)"
   ]
  },
  {
   "cell_type": "markdown",
   "metadata": {},
   "source": [
    "### List Comprehensions\n",
    "\n",
    "Allows us to create a list using a for loop in one step."
   ]
  },
  {
   "cell_type": "markdown",
   "metadata": {},
   "source": [
    "capitalized_cities = []\n",
    "for city in cities:\n",
    "    capitalized_cities.append(city.title())\n",
    "    \n",
    "can be reduced to:"
   ]
  },
  {
   "cell_type": "code",
   "execution_count": 28,
   "metadata": {},
   "outputs": [
    {
     "name": "stdout",
     "output_type": "stream",
     "text": [
      "['New York', 'Sydney', 'Canberra', 'Santa Marta']\n"
     ]
    }
   ],
   "source": [
    "cities = ['new york', 'sydney', 'canberra', 'santa marta']\n",
    "\n",
    "capitalized_cities = [city.title() for city in cities]\n",
    "print(capitalized_cities)"
   ]
  },
  {
   "cell_type": "code",
   "execution_count": 31,
   "metadata": {},
   "outputs": [
    {
     "name": "stdout",
     "output_type": "stream",
     "text": [
      "[0, 4, 16, 36, 64]\n"
     ]
    }
   ],
   "source": [
    "# Conditionals in List Comprehensions\n",
    "# You can also add conditionals to list comprehensions (listcomps). \n",
    "# After the iterable, you can use the if keyword to check a condition in each iteration.\n",
    "\n",
    "squares = [x**2 for x in range(9) if x % 2 == 0]\n",
    "print(squares)"
   ]
  },
  {
   "cell_type": "code",
   "execution_count": 35,
   "metadata": {},
   "outputs": [
    {
     "name": "stdout",
     "output_type": "stream",
     "text": [
      "[4, 4, 6, 16, 8, 36, 10, 64]\n"
     ]
    }
   ],
   "source": [
    "# If you would like to add else, you have to move the conditionals to the beginning of the listcomp, \n",
    "#right after the expression, like this:\n",
    "\n",
    "## generate a list with all squares between 1 and 10, if the number is not a multiple of 2, add 3 to it.\n",
    "\n",
    "squares = [x**2 if x % 2 == 0 else x + 3 for x in range(1,9)] \n",
    "print(squares)"
   ]
  },
  {
   "cell_type": "code",
   "execution_count": 40,
   "metadata": {},
   "outputs": [
    {
     "name": "stdout",
     "output_type": "stream",
     "text": [
      "['rick', 'morty', 'summer', 'jerry', 'beth']\n"
     ]
    }
   ],
   "source": [
    "# Use a list comprehension to create a new list first_names containing just the first names in names in lowercase.\n",
    "names = [\"Rick Sanchez\", \"Morty Smith\", \"Summer Smith\", \"Jerry Smith\", \"Beth Smith\"]\n",
    "\n",
    "first_names = [name.split()[0].lower() for name in names]\n",
    "print(first_names)"
   ]
  },
  {
   "cell_type": "code",
   "execution_count": 39,
   "metadata": {},
   "outputs": [
    {
     "name": "stdout",
     "output_type": "stream",
     "text": [
      "['Rick Sanchez', 'Beth Smith', 'Summer Smith']\n"
     ]
    }
   ],
   "source": [
    "# Use a list comprehension to create a list of names passed that only include those that scored at least 65.\n",
    "\n",
    "scores = {\n",
    "             \"Rick Sanchez\": 70,\n",
    "             \"Morty Smith\": 35,\n",
    "             \"Summer Smith\": 82,\n",
    "             \"Jerry Smith\": 23,\n",
    "             \"Beth Smith\": 98\n",
    "}\n",
    "\n",
    "passed = [name for name, score in scores.items() if score >= 65]\n",
    "\n",
    "print(passed)"
   ]
  },
  {
   "cell_type": "code",
   "execution_count": 42,
   "metadata": {},
   "outputs": [
    {
     "name": "stdout",
     "output_type": "stream",
     "text": [
      "[3, 6, 9, 12, 15, 18, 21, 24, 27, 30, 33, 36, 39, 42, 45, 48, 51, 54, 57, 60]\n"
     ]
    }
   ],
   "source": [
    "# Use a list comprehension to create a list multiples_3 containing the first 20 multiples of 3.\n",
    "multiples_3 = [x for x in range(100) if x % 3 == 0][1:21]\n",
    "#multiples_3a = [x * 3 for x in range(1,21)]\n",
    "\n",
    "print(multiples_3)\n",
    "#print(multiples_3a)"
   ]
  },
  {
   "cell_type": "code",
   "execution_count": null,
   "metadata": {},
   "outputs": [],
   "source": [
    "### End of Control Flow Lesson"
   ]
  }
 ],
 "metadata": {
  "kernelspec": {
   "display_name": "Python 3",
   "language": "python",
   "name": "python3"
  },
  "language_info": {
   "codemirror_mode": {
    "name": "ipython",
    "version": 3
   },
   "file_extension": ".py",
   "mimetype": "text/x-python",
   "name": "python",
   "nbconvert_exporter": "python",
   "pygments_lexer": "ipython3",
   "version": "3.5.4"
  }
 },
 "nbformat": 4,
 "nbformat_minor": 2
}
