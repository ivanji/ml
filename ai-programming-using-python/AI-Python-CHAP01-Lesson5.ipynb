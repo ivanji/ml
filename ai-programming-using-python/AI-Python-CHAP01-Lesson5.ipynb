{
 "cells": [
  {
   "cell_type": "markdown",
   "metadata": {},
   "source": [
    "# Python Scripting\n",
    "\n",
    "We can get raw input from the user with the built-in function input, which takes in an optional string argument that you can use to specify a message shown to the user."
   ]
  },
  {
   "cell_type": "code",
   "execution_count": 1,
   "metadata": {},
   "outputs": [
    {
     "name": "stdout",
     "output_type": "stream",
     "text": [
      "Enter a name:Ivan\n",
      "Hello Ivan\n"
     ]
    }
   ],
   "source": [
    "name = input('Enter a name:')\n",
    "print('Hello', name)"
   ]
  },
  {
   "cell_type": "code",
   "execution_count": 4,
   "metadata": {},
   "outputs": [
    {
     "name": "stdout",
     "output_type": "stream",
     "text": [
      "Enter a number:100\n",
      "120\n"
     ]
    }
   ],
   "source": [
    "num = int(float(input('Enter a number:')))\n",
    "num+=20\n",
    "print(num)"
   ]
  },
  {
   "cell_type": "code",
   "execution_count": 8,
   "metadata": {},
   "outputs": [
    {
     "name": "stdout",
     "output_type": "stream",
     "text": [
      "Enter an expression: 2*3\n",
      "6\n"
     ]
    }
   ],
   "source": [
    "# We can also interpret user input as a Python expression using the built-in function eval. \n",
    "# This function evaluates a string as a line of Python.\n",
    "\n",
    "result = eval(input(\"Enter an expression: \"))\n",
    "print(result)"
   ]
  },
  {
   "cell_type": "code",
   "execution_count": 43,
   "metadata": {},
   "outputs": [
    {
     "name": "stdout",
     "output_type": "stream",
     "text": [
      "Enter names, separated by comma.Ivan, Joey\n",
      "Enter number of assigments per student 1, 10\n",
      "Enter final grade for each student 1, 20\n",
      "Hi Ivan,\n",
      "\n",
      "This is a reminder that you have 1 assignments left to submit before you can graduate. You're current grade is 1 and can increase to 2 if you submit all assignments before the due date.\n",
      "\n",
      "\n",
      "Hi  Joey,\n",
      "\n",
      "This is a reminder that you have  10 assignments left to submit before you can graduate. You're current grade is  20 and can increase to 120 if you submit all assignments before the due date.\n",
      "\n",
      "\n"
     ]
    }
   ],
   "source": [
    "names =  input('Enter names, separated by comma.').split(',') # get and process input for a list of names\n",
    "assignments =  input('Enter number of assigments per student ').split(',') # get and process input for a list of the number of assignments\n",
    "grades =  input('Enter final grade for each student ').split(',') # get and process input for a list of grades\n",
    "\n",
    "# message string to be used for each student\n",
    "# HINT: use .format() with this string in your for loop\n",
    "message = \"Hi {},\\n\\nThis is a reminder that you have {} assignments left to \\\n",
    "submit before you can graduate. You're current grade is {} and can increase \\\n",
    "to {} if you submit all assignments before the due date.\\n\\n\"\n",
    "\n",
    "# write a for loop that iterates through each set of names, assignments, and grades to print each student's message\n",
    "for name, assignment, grade in zip(names, assignments, grades):\n",
    "    print(message.format(name, assignment, grade, int(grade) + int(assignment) **2))"
   ]
  },
  {
   "cell_type": "markdown",
   "metadata": {},
   "source": [
    "### Errors And Exceptions\n",
    "\n",
    "Syntax errors occur when Python can’t interpret our code, since we didn’t follow the correct syntax for Python. These are errors you’re likely to get when you make a typo, or you’re first starting to learn Python.\n",
    "\n",
    "Exceptions occur when unexpected things happen during execution of a program, even if the code is syntactically correct. There are different types of built-in exceptions in Python, and you can see which exception is thrown in the error message."
   ]
  },
  {
   "cell_type": "markdown",
   "metadata": {},
   "source": [
    "### Try Statement\n",
    "\n",
    "We can use try statements to handle exceptions. There are four clauses you can use (one more in addition to those shown in the video).\n",
    "\n",
    "try: This is the only mandatory clause in a try statement. The code in this block is the first thing that Python runs in a try statement.\n",
    "\n",
    "except: If Python runs into an exception while running the try block, it will jump to the except block that handles that exception.\n",
    "\n",
    "else: If Python runs into no exceptions while running the try block, it will run the code in this block after running the try block.\n",
    "\n",
    "finally: Before Python leaves this try statement, it will run the code in this finally block under any conditions, even if it's ending the program. E.g., if Python ran into an error while running code in the except or else block, this finally block will still be executed before stopping the program."
   ]
  },
  {
   "cell_type": "code",
   "execution_count": null,
   "metadata": {},
   "outputs": [],
   "source": [
    "while True:\n",
    "    try:\n",
    "        x = int(input('Enter number'))\n",
    "        break\n",
    "    except ValueError:\n",
    "        print('That\\s not a valid number')\n",
    "    finally:\n",
    "        print('\\nAttempted Input\\n')"
   ]
  },
  {
   "cell_type": "markdown",
   "metadata": {},
   "source": [
    "If we want this handler to address more than one type of exception, we can include a tuple after the except with the exceptions.\n",
    "\n",
    "```\n",
    "try:\n",
    "    # some code\n",
    "except ValueError, KeyboardInterrupt:\n",
    "    # some code\n",
    "```\n",
    "If we want to execute different blocks of code depending on the exception, you can have multiple except blocks.\n",
    "\n",
    "```\n",
    "try:\n",
    "    # some code\n",
    "except ValueError:\n",
    "    # some code\n",
    "except KeyboardInterrupt:\n",
    "    # some code\n",
    "```"
   ]
  },
  {
   "cell_type": "code",
   "execution_count": 65,
   "metadata": {},
   "outputs": [
    {
     "data": {
      "text/plain": [
       "'There will be available 10 cookies per each of the 1 people attending with possibly 0 leftovers'"
      ]
     },
     "execution_count": 65,
     "metadata": {},
     "output_type": "execute_result"
    }
   ],
   "source": [
    "def party_planner(cookies, people):\n",
    "    leftovers = None\n",
    "    num_each = None\n",
    "\n",
    "    try:\n",
    "        num_each = cookies // people\n",
    "        leftovers = cookies % people\n",
    "        message = \"There will be available {} cookies per each of the {} people attending with possibly {} leftovers\".format(num_each,people, leftovers)\n",
    "        return(message)\n",
    "    except ZeroDivisionError as e:\n",
    "        print(\"It seems you entered zero people will be attending your party. \\nExact error: {}\".format(e))\n",
    "        \n",
    "\n",
    "party_planner(10,1)"
   ]
  },
  {
   "cell_type": "markdown",
   "metadata": {},
   "source": [
    "### Reading and Writing files"
   ]
  },
  {
   "cell_type": "code",
   "execution_count": 75,
   "metadata": {},
   "outputs": [
    {
     "name": "stdout",
     "output_type": "stream",
     "text": [
      "<_io.TextIOWrapper name='data/text.csv' mode='w' encoding='UTF-8'>\n",
      "['This is a file created by Python', 'This is a song dedicated to all beautiful women']\n"
     ]
    }
   ],
   "source": [
    "f = open('data/text.csv', 'w') # open in read-only mode\n",
    "f.write('This is a file created by Python\\nThis is a song dedicated to all beautiful women')\n",
    "print(f)\n",
    "f.close()\n",
    "\n",
    "song_list = []\n",
    "with open(\"data/text.csv\") as song:\n",
    "#     print(song.read(2))\n",
    "#     print(song.read(8))\n",
    "#     print(song.read())\n",
    "    \n",
    "    for line in song:\n",
    "        song_list.append(line.strip()) # strip is used to remove attached newline character\n",
    "        \n",
    "print(song_list)"
   ]
  },
  {
   "cell_type": "code",
   "execution_count": 4,
   "metadata": {},
   "outputs": [
    {
     "name": "stdout",
     "output_type": "stream",
     "text": [
      "Graham Chapman\n",
      "Eric Idle\n",
      "Terry Jones\n",
      "Michael Palin\n",
      "Terry Gilliam\n",
      "John Cleese\n",
      "Carol Cleveland\n",
      "Ian Davidson\n",
      "John Hughman\n",
      "The Fred Tomlinson Singers\n",
      "Connie Booth\n",
      "Bob Raymond\n",
      "Lyn Ashley\n",
      "Rita Davies\n",
      "Stanley Mason\n",
      "David Ballantyne\n",
      "Donna Reading\n",
      "Peter Brett\n",
      "Maureen Flanagan\n",
      "Katya Wyeth\n",
      "Frank Lester\n",
      "Neil Innes\n",
      "Dick Vosburgh\n",
      "Sandra Richards\n",
      "Julia Breck\n",
      "Nicki Howorth\n",
      "Jimmy Hill\n",
      "Barry Cryer\n",
      "Jeannette Wild\n",
      "Marjorie Wilde\n",
      "Marie Anderson\n",
      "Caron Gardner\n",
      "Nosher Powell\n",
      "Carolae Donoghue\n",
      "Vincent Wong\n",
      "Helena Clayton\n",
      "Nigel Jones\n",
      "Roy Gunson\n",
      "Daphne Davey\n",
      "Stenson Falke\n",
      "Alexander Curry\n",
      "Frank Williams\n",
      "Ralph Wood\n",
      "Rosalind Bailey\n",
      "Marion Mould\n",
      "Sheila Sands\n",
      "Richard Baker\n",
      "Douglas Adams\n",
      "Ewa Aulin\n",
      "Reginald Bosanquet\n",
      "Barbara Lindley\n",
      "Roy Brent\n",
      "Jonas Card\n",
      "Tony Christopher\n",
      "Beulah Hughes\n",
      "Peter Kodak\n",
      "Lulu\n",
      "Jay Neill\n",
      "Graham Skidmore\n",
      "Ringo Starr\n",
      "Fred Tomlinson\n",
      "David Hamilton\n",
      "Suzy Mandel\n",
      "Peter Woods\n"
     ]
    }
   ],
   "source": [
    "def create_cast_list(filename):\n",
    "    cast_list = []\n",
    "    #use with to open the file filename\n",
    "    with open(filename) as circus_cast:\n",
    "        for line in circus_cast:\n",
    "            cast_list.append(line.split(',')[0]) #split the lines into commas, and get the first element (names)\n",
    "    #use the for loop syntax to process each line\n",
    "    #and add the actor name to cast_list\n",
    "\n",
    "    return cast_list\n",
    "\n",
    "cast_list = create_cast_list('data/flying_circus_cast')\n",
    "for actor in cast_list:\n",
    "    print(actor)"
   ]
  },
  {
   "cell_type": "markdown",
   "metadata": {},
   "source": [
    "#### Importing Local Scripts\n",
    "\n",
    "import useful_functions as uf # use alias to avoid re-using full module name\n",
    "\n",
    "It's the standard convention for import statements to be written at the top of a Python script, each one on a separate line. This import statement creates a module object called useful_functions. Modules are just Python files that contain definitions and statements. To access objects from an imported module, you need to use dot notation.\n",
    "\n",
    "To avoid running executable statements in a script when it's imported as a module in another script, include these lines in an if __name__ == \"__main__\" block. Or alternatively, include them in a function called main() and call this in the if main block.\n",
    "\n",
    "Whenever we run a script like this, Python actually sets a special built-in variable called __name__ for any module. When we run a script, Python recognizes this module as the main program, and sets the __name__ variable for this module to the string \"__main__\". For any modules that are imported in this script, this built-in __name__ variable is just set to the name of that module. Therefore, the condition if __name__ == \"__main__\"is just checking whether this module is the main program."
   ]
  },
  {
   "cell_type": "markdown",
   "metadata": {},
   "source": [
    "````\n",
    "# demo.py\n",
    "\n",
    "import useful_functions as uf\n",
    "\n",
    "scores = [88, 92, 79, 93, 85]\n",
    "\n",
    "mean = uf.mean(scores)\n",
    "curved = uf.add_five(scores)\n",
    "\n",
    "mean_c = uf.mean(curved)\n",
    "\n",
    "print(\"Scores:\", scores)\n",
    "print(\"Original Mean:\", mean, \" New Mean:\", mean_c)\n",
    "\n",
    "print(__name__)\n",
    "print(uf.__name__)\n",
    "\n",
    "# module name - must be added at same level. Otherwise use'sys'module\n",
    "# useful_functions.py\n",
    "\n",
    "def mean(num_list):\n",
    "    return sum(num_list) / len(num_list)\n",
    "\n",
    "def add_five(num_list):\n",
    "    return [n + 5 for n in num_list]\n",
    "\n",
    "def main():\n",
    "    print(\"Testing mean function\")\n",
    "    n_list = [34, 44, 23, 46, 12, 24]\n",
    "    correct_mean = 30.5\n",
    "    assert(mean(n_list) == correct_mean)\n",
    "\n",
    "    print(\"Testing add_five function\")\n",
    "    correct_list = [39, 49, 28, 51, 17, 29]\n",
    "    assert(add_five(n_list) == correct_list)\n",
    "\n",
    "    print(\"All tests passed!\")\n",
    "\n",
    "if __name__ == '__main__':\n",
    "    main()\n",
    "    \n",
    "```"
   ]
  },
  {
   "cell_type": "markdown",
   "metadata": {},
   "source": [
    "##### The Standard Library\n",
    "\n",
    "\n",
    "The Python Standard Library that is distributed with Python has a lot of useful modules. Some and their use are listed below:\n",
    "\n",
    "csv: very convenient for reading and writing csv files\n",
    "collections: useful extensions of the usual data types including OrderedDict, defaultdict and namedtuple\n",
    "random: generates pseudo-random numbers, shuffles sequences randomly and chooses random items\n",
    "string: more functions on strings. This module also contains useful collections of letters like string.digits (a string containing all characters which are valid digits).\n",
    "re: pattern-matching in strings via regular expressions\n",
    "math: some standard mathematical functions\n",
    "os: interacting with operating systems\n",
    "os.path: submodule of os for manipulating path names\n",
    "sys: work directly with the Python interpreter\n",
    "json: good for reading and writing json files (good for web work)\n"
   ]
  },
  {
   "cell_type": "markdown",
   "metadata": {},
   "source": [
    "#### Techniques for Importing Modules\n",
    "\n",
    "There are other variants of import statements that are useful in different situations.\n",
    "\n",
    "To import an individual function or class from a module:\n",
    "```from module_name import object_name```\n",
    "To import multiple individual objects from a module:\n",
    "```from module_name import first_object, second_object```\n",
    "To rename a module:\n",
    "```import module_name as new_name```\n",
    "To import an object from a module and rename it:\n",
    "```from module_name import object_name as new_name```\n",
    "To import every object individually from a module (DO NOT DO THIS):\n",
    "```from module_name import *```\n",
    "\n",
    "If you really want to use all of the objects from a module, use the standard import module_name statement instead and access each of the objects with the dot notation.\n",
    "```import module_name```"
   ]
  },
  {
   "cell_type": "markdown",
   "metadata": {},
   "source": [
    "###### Modules, Packages, and Names\n",
    "\n",
    "In order to manage the code better, modules in the Python Standard Library are split down into sub-modules that are contained within a package. A package is simply a module that contains sub-modules. A sub-module is specified with the usual dot notation.\n",
    "\n",
    "Modules that are submodules are specified by the package name and then the submodule name separated by a dot. You can import the submodule like this."
   ]
  },
  {
   "cell_type": "markdown",
   "metadata": {},
   "source": [
    "##### Third-Party Libraries\n",
    "\n",
    "There are tens of thousands of third-party libraries written by independent developers! You can install them using pip, a package manager that is included with Python 3. pip is the standard package manager for Python, but it isn't the only one. One popular alternative is Anaconda which is designed specifically for data science.\n",
    "\n",
    "Using a requirements.txt File\n",
    "Larger Python programs might depend on dozens of third party packages. To make it easier to share these programs, programmers often list a project's dependencies in a file called requirements.txt. This is an example of a requirements.txt file.\n",
    "\n",
    "beautifulsoup4==4.5.1\n",
    "bs4==0.0.1\n",
    "pytz==2016.7\n",
    "requests==2.11.1\n",
    "\n",
    "You can use pip to install all of a project's dependencies at once by typing ```pip install -r requirements.txt``` in your command line."
   ]
  },
  {
   "cell_type": "code",
   "execution_count": 12,
   "metadata": {},
   "outputs": [],
   "source": [
    "# end of lesson"
   ]
  }
 ],
 "metadata": {
  "kernelspec": {
   "display_name": "Python 3.6",
   "language": "python",
   "name": "python36"
  },
  "language_info": {
   "codemirror_mode": {
    "name": "ipython",
    "version": 3
   },
   "file_extension": ".py",
   "mimetype": "text/x-python",
   "name": "python",
   "nbconvert_exporter": "python",
   "pygments_lexer": "ipython3",
   "version": "3.6.3"
  }
 },
 "nbformat": 4,
 "nbformat_minor": 2
}
