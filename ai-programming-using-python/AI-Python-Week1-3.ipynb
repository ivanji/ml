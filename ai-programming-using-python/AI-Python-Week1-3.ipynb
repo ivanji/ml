{
 "cells": [
  {
   "cell_type": "markdown",
   "metadata": {},
   "source": [
    "### Control flow\n",
    "\n",
    "\n",
    "#### If Statement\n",
    "An if state is a conditional statement that runs or skips code based on wether a condition is true or false.\n",
    "\n",
    "```\n",
    "if phone_balance < 5:\n",
    "    phone_balance += 10\n",
    "    bank_balance -=10\n",
    "```\n",
    "\n",
    "#### If, Elif, Else\n",
    "In addition to If, there are two other conditional  clauses often used with an if statement. For example:\n",
    "\n",
    "```\n",
    "if season == 'spring':\n",
    "    print('plant the garden')\n",
    "   elseif season == 'summer':\n",
    "    print('water the garden!')\n",
    "   elseif season == 'fall'):\n",
    "    print('harvest the season!')\n",
    "   elseif season == 'winter')\n",
    "    print('stay indoors!')\n",
    "   else:\n",
    "    print('unrecognized season')\n",
    "```\n",
    "\n",
    "if: An if statement must always start with an if clause, which contains the first condition that is checked. If this evaluates to True, Python runs the code indented in this if block and then skips to the rest of the code after the if statement.\n",
    "\n",
    "elif: elif is short for \"else if.\" An elif clause is used to check for an additional condition if the conditions in the previous clauses in the if statement evaluate to False. As you can see in the example, you can have multiple elif blocks to handle different situations.\n",
    "\n",
    "else: Last is the else clause, which must come at the end of an if statement if used. This clause doesn't require a condition. The code in an else block is run if all conditions above that in the if statement evaluate to False.\n",
    "\n"
   ]
  },
  {
   "cell_type": "code",
   "execution_count": 3,
   "metadata": {},
   "outputs": [
    {
     "name": "stdout",
     "output_type": "stream",
     "text": [
      "You won a wooden rabbit\n"
     ]
    }
   ],
   "source": [
    "win_message = 'You won a '\n",
    "\n",
    "def draw_prize(points):\n",
    "    if points <=50:\n",
    "        prize = 'wooden rabbit'\n",
    "        print(win_message + prize)\n",
    "    elif points <=150:\n",
    "        print('Oh dear, no prize this time.')\n",
    "    elif points <=180:\n",
    "        print('You won a wafer-thin mint')\n",
    "    else:\n",
    "        print('You won a penguin')\n",
    "    \n",
    "draw_prize(40)"
   ]
  },
  {
   "cell_type": "markdown",
   "metadata": {},
   "source": [
    "#### Good and Bad Examples\n",
    "Here are some things to keep in mind while writing boolean expressions for your if statements.\n",
    "\n",
    "1. Don't use True or False as conditions\n",
    "\n",
    "Bad example\n",
    "\n",
    "```\n",
    "if True:\n",
    "    print(\"This indented code will always get run.\")\n",
    "```\n",
    "While \"True\" is a valid boolean expression, it's not useful as a condition since it always evaluates to True, so the indented code will always get run. Similarly, if False is not a condition you should use either - the statement following this if statement would never be executed.\n",
    "\n",
    "\n",
    "Another bad example\n",
    "\n",
    "```\n",
    "if is_cold or not is_cold:\n",
    "    print(\"This indented code will always get run.\")\n",
    "```\n",
    "Similarly, it's useless to use any condition that you know will always evaluate to True, like this example above. A boolean variable can only be True or False, so either is_cold or not is_cold is always True, and the indented code will always be run.\n",
    "\n",
    "2. Be careful writing expressions that use logical operators\n",
    "\n",
    "Logical operators and, or and not have specific meanings that aren't quite the same as their meanings in plain English. Make sure your boolean expressions are being evaluated the way you expect them to.\n",
    "\n",
    "Bad example\n",
    "\n",
    "```\n",
    "if weather == \"snow\" or \"rain\":\n",
    "    print(\"Wear boots!\")\n",
    "```\n",
    "This code is valid in Python, but it is not a boolean expression, although it reads like one. The reason is that the expression to the right of the or operator, \"rain\", is not a boolean expression - it's a string! Later we'll discuss what happens when you use non-boolean-type objects in place of booleans.\n",
    "\n",
    "3. Don't compare a boolean variable with == True or == False\n",
    "This comparison isn’t necessary, since the boolean variable itself is a boolean expression.\n",
    "\n",
    "\n",
    "Bad example\n",
    "```\n",
    "if is_cold == True:\n",
    "    print(\"The weather is cold!\")\n",
    "```\n",
    "\n",
    "This is a valid condition, but we can make the code more readable by using the variable itself as the condition instead, as below.\n",
    "\n",
    "\n",
    "Good example\n",
    "```\n",
    "if is_cold:\n",
    "    print(\"The weather is cold!\")\n",
    "```"
   ]
  },
  {
   "cell_type": "markdown",
   "metadata": {},
   "source": [
    "##### Truth Value Testing\n",
    "\n",
    "If we use a non-boolean object as a condition in an if statement in place of the boolean expression, Python will check for its truth value and use that to decide whether or not to run the indented code. By default, the truth value of an object in Python is considered True unless specified as False in the documentation.\n",
    "\n",
    "Here are most of the built-in objects that are considered False in Python:\n",
    "\n",
    "constants defined to be false: None and False\n",
    "zero of any numeric type: 0, 0.0, 0j, Decimal(0), Fraction(0, 1)\n",
    "empty sequences and collections: '\"\", (), [], {}, set(), range(0)"
   ]
  },
  {
   "cell_type": "markdown",
   "metadata": {},
   "source": [
    "#### For Loops\n",
    "\n",
    "Python has two kinds of loops - for loops and while loops. A for loop is used to \"iterate\", or do something repeatedly, over an iterable.\n",
    "\n",
    "An iterable is an object that can return one of its elements at a time. This can include sequence types, such as strings, lists, and tuples, as well as non-sequence types, such as dictionaries and files.\n",
    "\n",
    "Example\n",
    "Let's break down the components of a for loop, using this example with the list cities:\n",
    "\n",
    "cities = ['new york city', 'mountain view', 'chicago', 'los angeles']\n",
    "for city in cities:\n",
    "    print(city)\n",
    "print(\"Done!\")\n",
    "\n",
    "If you wish to iterate through both keys and values, you can use the built-in method items like this:\n",
    "\n"
   ]
  },
  {
   "cell_type": "code",
   "execution_count": 4,
   "metadata": {},
   "outputs": [
    {
     "name": "stdout",
     "output_type": "stream",
     "text": [
      "Actor: Jerry Seinfeld    Role: Jerry Seinfeld\n",
      "Actor: Julia Louis-Dreyfus    Role: Elaine Benes\n",
      "Actor: Jason Alexander    Role: George Costanza\n",
      "Actor: Michael Richards    Role: Cosmo Kramer\n"
     ]
    }
   ],
   "source": [
    "cast = {\n",
    "           \"Jerry Seinfeld\": \"Jerry Seinfeld\",\n",
    "           \"Julia Louis-Dreyfus\": \"Elaine Benes\",\n",
    "           \"Jason Alexander\": \"George Costanza\",\n",
    "           \"Michael Richards\": \"Cosmo Kramer\"\n",
    "       }\n",
    "\n",
    "for key, value in cast.items():\n",
    "    print(\"Actor: {}    Role: {}\".format(key, value))"
   ]
  },
  {
   "cell_type": "code",
   "execution_count": 5,
   "metadata": {},
   "outputs": [
    {
     "name": "stdout",
     "output_type": "stream",
     "text": [
      "Jerry Seinfeld\n",
      "Julia Louis-Dreyfus\n",
      "Jason Alexander\n",
      "Michael Richards\n"
     ]
    }
   ],
   "source": [
    "for key in cast:\n",
    "    print(key)"
   ]
  },
  {
   "cell_type": "markdown",
   "metadata": {},
   "source": [
    "#### While Loops\n",
    "\n",
    "Indefinite iteration, which is when the loop repeats an unknown number of times and ends when a condition is met.\n",
    "\n",
    "The indented body of the loop should modify at least one variable in the test condition. If the vlaue of the test condition never changes, the results is an infinite loop."
   ]
  },
  {
   "cell_type": "code",
   "execution_count": 3,
   "metadata": {},
   "outputs": [],
   "source": [
    "card_deck = [4,11,8,5,13,2,8,10]\n",
    "hand = []\n",
    "\n",
    "# adds the Last elmenet of the card_deck list to the hand list until the values in hand add up to 17\n",
    "while sum(hand) < 17:\n",
    "    hand.append(card_deck.pop())"
   ]
  },
  {
   "cell_type": "markdown",
   "metadata": {},
   "source": []
  },
  {
   "cell_type": "code",
   "execution_count": null,
   "metadata": {},
   "outputs": [],
   "source": []
  },
  {
   "cell_type": "code",
   "execution_count": null,
   "metadata": {},
   "outputs": [],
   "source": []
  }
 ],
 "metadata": {
  "kernelspec": {
   "display_name": "Python 3",
   "language": "python",
   "name": "python3"
  },
  "language_info": {
   "codemirror_mode": {
    "name": "ipython",
    "version": 3
   },
   "file_extension": ".py",
   "mimetype": "text/x-python",
   "name": "python",
   "nbconvert_exporter": "python",
   "pygments_lexer": "ipython3",
   "version": "3.6.0"
  }
 },
 "nbformat": 4,
 "nbformat_minor": 2
}
