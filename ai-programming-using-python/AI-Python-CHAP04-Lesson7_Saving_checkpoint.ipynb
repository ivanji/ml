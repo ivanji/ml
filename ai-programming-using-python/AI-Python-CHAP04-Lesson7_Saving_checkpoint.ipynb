{
 "cells": [
  {
   "cell_type": "markdown",
   "metadata": {
    "collapsed": true
   },
   "source": [
    "# Saving and Loading Trained Network\n",
    "\n",
    "After the network has finished training, we can save our trained network, so that they can be used later. We do this by creating checkpoints.\n",
    "\n",
    "Parameters of our model are stored in a model's ```state_dict```."
   ]
  },
  {
   "cell_type": "code",
   "execution_count": 3,
   "metadata": {},
   "outputs": [
    {
     "name": "stdout",
     "output_type": "stream",
     "text": [
      "Solving environment: done\n",
      "\n",
      "\n",
      "==> WARNING: A newer version of conda exists. <==\n",
      "  current version: 4.5.4\n",
      "  latest version: 4.5.5\n",
      "\n",
      "Please update conda by running\n",
      "\n",
      "    $ conda update -n base conda\n",
      "\n",
      "\n",
      "\n",
      "## Package Plan ##\n",
      "\n",
      "  environment location: /home/nbuser/anaconda3_501\n",
      "\n",
      "  added / updated specs: \n",
      "    - pytorch\n",
      "\n",
      "\n",
      "The following packages will be downloaded:\n",
      "\n",
      "    package                    |            build\n",
      "    ---------------------------|-----------------\n",
      "    certifi-2018.4.16          |           py36_0         142 KB\n",
      "    wheel-0.31.1               |           py36_0          62 KB\n",
      "    sqlite-3.23.1              |       he433501_0         1.5 MB\n",
      "    readline-7.0               |       ha6073c6_4         1.1 MB\n",
      "    python-3.6.3               |       h6c0c0dc_5        29.0 MB\n",
      "    cffi-1.11.5                |   py36h9745a5d_0         212 KB\n",
      "    pip-10.0.1                 |           py36_0         1.8 MB\n",
      "    ninja-1.8.2                |   py36h6bb024c_1         1.3 MB\n",
      "    numpy-1.14.3               |   py36h28100ab_2          42 KB\n",
      "    libopenblas-0.2.20         |       h9ac9557_7         8.8 MB\n",
      "    setuptools-39.2.0          |           py36_0         551 KB\n",
      "    numpy-base-1.14.3          |   py36h0ea5e3f_1         4.1 MB\n",
      "    pytorch-0.4.0              |py36_cuda8.0.61_cudnn7.1.2_1       390.8 MB  pytorch\n",
      "    ------------------------------------------------------------\n",
      "                                           Total:       439.3 MB\n",
      "\n",
      "The following NEW packages will be INSTALLED:\n",
      "\n",
      "    libopenblas: 0.2.20-h9ac9557_7                             \n",
      "    ninja:       1.8.2-py36h6bb024c_1                          \n",
      "    numpy-base:  1.14.3-py36h0ea5e3f_1                         \n",
      "    readline:    7.0-ha6073c6_4                                \n",
      "\n",
      "The following packages will be UPDATED:\n",
      "\n",
      "    certifi:     2017.7.27.1-py36h8b7b77e_0                     --> 2018.4.16-py36_0                          \n",
      "    cffi:        1.10.0-py36had8d393_1                          --> 1.11.5-py36h9745a5d_0                     \n",
      "    numpy:       1.12.1-py36he24570b_1                          --> 1.14.3-py36h28100ab_2                     \n",
      "    pip:         9.0.1-py36h8ec8b28_3                           --> 10.0.1-py36_0                             \n",
      "    python:      3.6.3-h0ef2715_3                               --> 3.6.3-h6c0c0dc_5                          \n",
      "    pytorch:     0.3.1-py36_cuda8.0.61_cudnn7.0.5_2 soumith     --> 0.4.0-py36_cuda8.0.61_cudnn7.1.2_1 pytorch\n",
      "    setuptools:  36.5.0-py36he42e2e1_0                          --> 39.2.0-py36_0                             \n",
      "    sqlite:      3.20.1-0                           conda-forge --> 3.23.1-he433501_0                         \n",
      "    wheel:       0.29.0-py36he7f4e38_1                          --> 0.31.1-py36_0                             \n",
      "\n",
      "\n",
      "Downloading and Extracting Packages\n",
      "certifi-2018.4.16    |  142 KB | ####################################### | 100% \n",
      "wheel-0.31.1         |   62 KB | ####################################### | 100% \n",
      "sqlite-3.23.1        |  1.5 MB | ####################################### | 100% \n",
      "readline-7.0         |  1.1 MB | ####################################### | 100% \n",
      "python-3.6.3         | 29.0 MB | ####################################### | 100% \n",
      "cffi-1.11.5          |  212 KB | ####################################### | 100% \n",
      "pip-10.0.1           |  1.8 MB | ####################################### | 100% \n",
      "ninja-1.8.2          |  1.3 MB | ####################################### | 100% \n",
      "numpy-1.14.3         |   42 KB | ####################################### | 100% \n",
      "libopenblas-0.2.20   |  8.8 MB | ####################################### | 100% \n",
      "setuptools-39.2.0    |  551 KB | ####################################### | 100% \n",
      "numpy-base-1.14.3    |  4.1 MB | ####################################### | 100% \n",
      "pytorch-0.4.0        | 390.8 MB | ###################################### | 100% \n",
      "Preparing transaction: done\n",
      "Verifying transaction: done\n",
      "Executing transaction: done\n"
     ]
    },
    {
     "ename": "NameError",
     "evalue": "name 'pytorch' is not defined",
     "output_type": "error",
     "traceback": [
      "\u001b[0;31m---------------------------------------------------------------------------\u001b[0m",
      "\u001b[0;31mNameError\u001b[0m                                 Traceback (most recent call last)",
      "\u001b[0;32m<ipython-input-3-b2e6f992014d>\u001b[0m in \u001b[0;36m<module>\u001b[0;34m()\u001b[0m\n\u001b[1;32m     14\u001b[0m \u001b[0;32mimport\u001b[0m \u001b[0mhelper\u001b[0m\u001b[0;34m\u001b[0m\u001b[0m\n\u001b[1;32m     15\u001b[0m \u001b[0mget_ipython\u001b[0m\u001b[0;34m(\u001b[0m\u001b[0;34m)\u001b[0m\u001b[0;34m.\u001b[0m\u001b[0msystem\u001b[0m\u001b[0;34m(\u001b[0m\u001b[0;34m'conda install pytorch -c pytorch -y'\u001b[0m\u001b[0;34m)\u001b[0m\u001b[0;34m\u001b[0m\u001b[0m\n\u001b[0;32m---> 16\u001b[0;31m \u001b[0mpytorch\u001b[0m \u001b[0;34m-\u001b[0m\u001b[0mv\u001b[0m\u001b[0;34m\u001b[0m\u001b[0m\n\u001b[0m",
      "\u001b[0;31mNameError\u001b[0m: name 'pytorch' is not defined"
     ]
    }
   ],
   "source": [
    "%matplotlib inline\n",
    "%config InlineBackend.figure_format = 'retina'\n",
    "\n",
    "from collections import OrderedDict\n",
    "\n",
    "import numpy as np\n",
    "import time\n",
    "\n",
    "import torch\n",
    "from torch import nn\n",
    "from torch import optim\n",
    "import torch.nn.functional as F\n",
    "\n",
    "import helper\n",
    "!conda install pytorch -c pytorch -y\n",
    "pytorch -v"
   ]
  },
  {
   "cell_type": "code",
   "execution_count": 4,
   "metadata": {},
   "outputs": [
    {
     "name": "stdout",
     "output_type": "stream",
     "text": [
      "<module 'torchvision.datasets' from '/home/nbuser/anaconda3_501/lib/python3.6/site-packages/torchvision-0.1.9-py3.6.egg/torchvision/datasets/__init__.py'>\n"
     ]
    }
   ],
   "source": [
    "from torchvision import datasets, transforms\n",
    "\n",
    "print(datasets)\n",
    "\n",
    "# Define a transform to normalize the data\n",
    "transform = transforms.Compose([transforms.ToTensor(),\n",
    "                              transforms.Normalize((0.5, 0.5, 0.5), (0.5, 0.5, 0.5)),\n",
    "                             ])\n",
    "# Download and load the training data\n",
    "trainset = datasets.FashionMNIST('F_MNIST_data/', download=True, train=True, transform=transform)\n",
    "trainloader = torch.utils.data.DataLoader(trainset, batch_size=64, shuffle=True)"
   ]
  },
  {
   "cell_type": "code",
   "execution_count": null,
   "metadata": {},
   "outputs": [],
   "source": [
    "# Here we can see one of the images.\n",
    "image, label = next(iter(trainloader))\n",
    "helper.imshow(image[0,:])"
   ]
  }
 ],
 "metadata": {
  "kernelspec": {
   "display_name": "Python 3.6",
   "language": "python",
   "name": "python36"
  },
  "language_info": {
   "codemirror_mode": {
    "name": "ipython",
    "version": 3
   },
   "file_extension": ".py",
   "mimetype": "text/x-python",
   "name": "python",
   "nbconvert_exporter": "python",
   "pygments_lexer": "ipython3",
   "version": "3.6.3"
  }
 },
 "nbformat": 4,
 "nbformat_minor": 2
}
