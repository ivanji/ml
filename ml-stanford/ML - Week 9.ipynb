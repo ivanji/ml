{
 "cells": [
  {
   "cell_type": "markdown",
   "metadata": {
    "collapsed": true
   },
   "source": [
    "#### Anomaly Detection using ML\n",
    "\n",
    "Just like in other learning problems, we are given a training dataset ${x^{(1)}, x^{(2)},\\dots,x^{(m)}}$\n",
    "\n",
    "Then we're given a test set where we need to find anomalies using this data, by formulating p(x) where a particular data point falls out of what's considered a normal range $\\epsilon$.\n",
    "\n",
    "##### Anomaly vs Supervised Learning (when)\n",
    "\n",
    "###### Anomaly Detection\n",
    "\n",
    "- Very small number of positive examples (y=1_. (0-20 is common)\n",
    "\n",
    "- Large number of negative examples (y=0)\n",
    "\n",
    "- Many different 'types' of anomalies. Hard for any algorithm to learn from positive examples what the anomalies look like;\n",
    "\n",
    "- Future anomalies may look nothing like any of the anomalous examples seen so far.\n",
    "\n",
    "*Use Cases*\n",
    "\n",
    "- Fraud detection\n",
    "- Manufacturing (e.g. aircraft engines)\n",
    "- Monitoring machines in a data centre\n",
    "\n",
    "###### Supervised Learning\n",
    "\n",
    "- Large number of positive and negative examples\n",
    "\n",
    "- Enough positive examples for algorithm to get a sense of what positive examples are like, future positive examples likely to be similar to ones in training set\n",
    "\n",
    "*Use Cases*\n",
    "- Email Spam classification\n",
    "- Weather prediction\n",
    "- Decease prediction\n",
    "\n",
    "#### Choosing what features to use \n",
    "\n",
    "To select which features to use for anomaly detection use an Error Analysis procedure.\n",
    "\n",
    "\n",
    "### Recommender Systems\n",
    "\n",
    "##### Collaborative Filtering"
   ]
  }
 ],
 "metadata": {
  "kernelspec": {
   "display_name": "Python 3.6",
   "language": "python",
   "name": "python36"
  },
  "language_info": {
   "codemirror_mode": {
    "name": "ipython",
    "version": 3
   },
   "file_extension": ".py",
   "mimetype": "text/x-python",
   "name": "python",
   "nbconvert_exporter": "python",
   "pygments_lexer": "ipython3",
   "version": "3.6.3"
  }
 },
 "nbformat": 4,
 "nbformat_minor": 2
}
