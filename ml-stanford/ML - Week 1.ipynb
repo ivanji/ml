{
 "cells": [
  {
   "cell_type": "markdown",
   "metadata": {},
   "source": [
    "### ML Week 1: Linear Regression\n",
    "\n",
    "In supervised learning we know (sometimes only approximately) the values for _y_, for the _m_ samples in the training set $\\Xi$. We assume that if we can find a hypothesis _h_, that closely agrees with _y_ for the members of $\\Xi$, then this _h_ will be a good guess for _y_,specially if $\\Xi$ is large.\n",
    "\n",
    "$$ \\Xi = [{x_1, x_2,...x_i,...x_m}]$$\n",
    "\n",
    "$$h_\\theta(x) = x_0 + x_1 * x $$\n",
    "\n",
    "The above equation is a linear function and it's equivalent to the most widely known:\n",
    "\n",
    "$$ y = mx + b $$\n",
    "\n",
    "Another way to present this formula:\n",
    "$$\\hat{y} =  h_\\theta(x) = \\theta_0 + \\theta_1 * x $$\n",
    "\n",
    "$\\theta_0$ tells where the straight line intercepts with the _Y_ axis. \n",
    "$\\theta_1$ specifies the slope of the line or how steep it is. In other words, we're trying to create a function called $h_\\theta(x)$ that is trying to map our input data (x's) to our output data (y's).\n",
    "\n",
    "*Intuition*: \n",
    "- This equation simply means: $\\hat{y} = [a number] + [another number] * x$ // where _x_ is the variable we've been given.\n",
    "- $\\theta_0$ and $\\theta_1$ are normally guesses based on the training data. They're initiated using 0 or a very low value.\n",
    "\n"
   ]
  },
  {
   "cell_type": "markdown",
   "metadata": {},
   "source": [
    "Example:\n",
    "Suppose we have the following set of training data:\n",
    "\n",
    "| x | y |\n",
    "|-------|\n",
    "| 0 | 4 |\n",
    "| 1 | 7 |\n",
    "| 2 | 7 |\n",
    "| 3 | 8 |\n"
   ]
  },
  {
   "cell_type": "code",
   "execution_count": 2,
   "metadata": {},
   "outputs": [
    {
     "data": {
      "text/plain": [
       "(0, 10)"
      ]
     },
     "execution_count": 2,
     "metadata": {},
     "output_type": "execute_result"
    },
    {
     "data": {
      "image/png": "[encoded data removed]",
      "text/plain": [
       "<matplotlib.figure.Figure at 0x7fdac78ddef0>"
      ]
     },
     "metadata": {},
     "output_type": "display_data"
    }
   ],
   "source": [
    "import numpy as np\n",
    "import matplotlib.pyplot as plt\n",
    "\n",
    "# Training set = m\n",
    "x = [0,1,2,3] # e.g. Size \n",
    "y = [4,7,7,8] # e.g. Price\n",
    "\n",
    "fit = np.polyfit(x,y,1)\n",
    "fit_fn = np.poly1d(fit) \n",
    "# fit_fn is now a function which takes in x and returns an estimate for y\n",
    "\n",
    "plt.plot(x,y, 'yo', x, fit_fn(x), '--k')\n",
    "plt.xlim(0, 5)\n",
    "plt.ylim(0, 10)"
   ]
  },
  {
   "cell_type": "markdown",
   "metadata": {},
   "source": [
    "#### Cost Function (Squared Error Function)\n",
    "\n",
    "We measure the accuracy of our hypothesis function by using a *cost function*. This takes an average of all the results of the hypothesis with input from x's compared to the actual output y's.\n",
    "\n",
    "The formula used for this is called 'Sum of Squared Error function' (SSE) or 'Mean squared error function' (MSE).\n",
    "\n",
    "$$ J(\\theta_0, \\theta_1) = \\dfrac {1}{2m} \\displaystyle \\sum _{i=1}^m \\left ( \\hat{y}_{i}- y_{i} \\right)^2  = \\dfrac {1}{2m} \\displaystyle \\sum _{i=1}^m \\left (h_\\theta (x_{i}) - y_{i} \\right)^2 $$\n",
    "\n",
    "Our objective is to get the best possible line in our hypothesis. The best possible line will be such so that the average squared vertical distances of the scattered points from the line will be the least. In other words, the closer the line is to the points in the training set, the miminum the errors, the more accurate our hypothesis is.\n",
    "\n",
    "From Michael Nielsen's Book:\n",
    "> Inspecting the form of the quadratic cost function, we see that C(w,b) is non-negative, since every term in the sum is non-negative. Furthermore, the cost C(w,b) becomes small, i.e., C(w,b)≈0, precisely when y(x) is approximately equal to the output, a, for all training inputs, x. So our training algorithm has done a good job if it can find weights and biases so that C(w,b)≈0.\n",
    "\n",
    "In the best case, the line should pass through all the points in our training data set. In such a case the value of $J(\\theta_0 , \\theta_1) $ will be 0.\n",
    "\n",
    "Then to minimise the value produced by our cost function, we use an algorithm called Gradient Descent."
   ]
  },
  {
   "cell_type": "markdown",
   "metadata": {},
   "source": [
    "#### Gradient Descent\n",
    "\n",
    "We start with a guess for our hypothesis and then repeatedly apply gradient descent. Using this process are hypotesis will become more and more accurate.\n",
    "\n",
    "The gradient descent algorithm is:\n",
    "\n",
    "repeat until convergence:\n",
    "$$\\theta_j := \\theta_j - \\alpha \\frac{\\partial}{\\partial \\theta_j} J(\\theta_0, \\theta_1)$$\n",
    "\n",
    "When speficifically applied to the case of linear regression, a new gradient descent equation is used.\n",
    "\n",
    "\\begin{align*}\n",
    "  \\text{repeat until convergence: } \\lbrace & \\newline \n",
    "  \\theta_0 := & \\theta_0 - \\alpha \\frac{1}{m} \\sum\\limits_{i=1}^{m}(h_\\theta(x_{i}) - y_{i}) \\newline\n",
    "  \\theta_1 := & \\theta_1 - \\alpha \\frac{1}{m} \\sum\\limits_{i=1}^{m}\\left((h_\\theta(x_{i}) - y_{i}) x_{i}\\right) \\newline\n",
    "  \\rbrace&\n",
    "  \\end{align*}\n",
    "\n",
    "\n",
    "where *_m_* is the size of the training set, $\\theta_0$ a constant that will be changing simultaneously with $\\theta_1$ and $x_i,y_i$ are values of the given training set (data).\n",
    "\n",
    "Note that we have separated out the two cases for $\\theta_j$ into separate equations for $\\theta_0$ and $\\theta_1$; and that for $\\theta_1$ we are multiplying $x_i$ at the end due to the derivative."
   ]
  },
  {
   "cell_type": "markdown",
   "metadata": {},
   "source": [
    "#### Conclusion\n",
    "\n",
    "We're formulating predictions based on existing data (training set). For each new input variable (x) a hypothesis is generated $\\hat{y}$. The difference in value between our prediction and the real value is called its cost or error. We generate an average of all these differences using a cost function (SSE), which generates a single output, the cost. (_note_: The differences in the values are squared in order to ensure we get a positive integer).\n",
    "\n",
    "To ensure our prediction is as accurate as possible we run the cost through another algorithm called '_Gradient Descent_'. (_note_: Gradient descent is a general algorithm that can be used to minimise values in other type of problems as well).\n"
   ]
  }
 ],
 "metadata": {
  "kernelspec": {
   "display_name": "Python 3.6",
   "language": "python",
   "name": "python36"
  },
  "language_info": {
   "codemirror_mode": {
    "name": "ipython",
    "version": 3
   },
   "file_extension": ".py",
   "mimetype": "text/x-python",
   "name": "python",
   "nbconvert_exporter": "python",
   "pygments_lexer": "ipython3",
   "version": "3.6.3"
  }
 },
 "nbformat": 4,
 "nbformat_minor": 2
}
