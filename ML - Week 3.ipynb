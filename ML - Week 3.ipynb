{
 "cells": [
  {
   "cell_type": "markdown",
   "metadata": {},
   "source": [
    "### Week 3: Logistic Regression\n",
    "\n",
    "This formula is called Logistic Regression for historical reasons. Don't be confused by the word regression, as this is mainly used for classification issues.\n",
    "\n",
    "Logistic regression is an approach to solve classification problems. Linear regression doesn't work well with classification probelms.\n",
    "\n",
    "\n",
    "#### Binary Classification\n",
    "\n",
    "Classification problems look to classify an input with either 0 or 1. y∈{0,1}\n",
    "Where 0 is usually taken as the 'negative class' and 1 as the 'positive class'.\n",
    "\n",
    "Our hyphotestis representation is:\n",
    "\n",
    "$$0 \\leq h_\\theta (x) \\leq 1$$\n",
    "\n",
    "Where $h_\\theta (x)$ uses a Sigmoid function, also called Logistic function.\n",
    "\n",
    "\\begin{align*}& h_\\theta (x) =  g ( \\theta^T x ) \\newline \\newline& z = \\theta^T x \\newline& g(z) = \\dfrac{1}{1 + e^{-z}}\\end{align*}"
   ]
  }
 ],
 "metadata": {
  "kernelspec": {
   "display_name": "Python 3.6",
   "language": "python",
   "name": "python36"
  },
  "language_info": {
   "codemirror_mode": {
    "name": "ipython",
    "version": 3
   },
   "file_extension": ".py",
   "mimetype": "text/x-python",
   "name": "python",
   "nbconvert_exporter": "python",
   "pygments_lexer": "ipython3",
   "version": "3.6.3"
  }
 },
 "nbformat": 4,
 "nbformat_minor": 2
}
